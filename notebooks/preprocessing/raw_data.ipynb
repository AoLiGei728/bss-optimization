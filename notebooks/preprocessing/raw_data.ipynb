{
 "cells": [
  {
   "cell_type": "markdown",
   "metadata": {},
   "source": [
    "# Create folders with the city name inside data/processed"
   ]
  },
  {
   "cell_type": "code",
   "execution_count": 70,
   "metadata": {},
   "outputs": [],
   "source": [
    "import os\n",
    "import re\n",
    "from typing import List"
   ]
  },
  {
   "cell_type": "code",
   "execution_count": 71,
   "metadata": {},
   "outputs": [],
   "source": [
    "RAW_DATA_DIR = \"../../data/raw/instances\"\n",
    "PROCESSED_DATA_DIR = \"../../data/processed\""
   ]
  },
  {
   "cell_type": "code",
   "execution_count": 72,
   "metadata": {},
   "outputs": [],
   "source": [
    "notebook_dir = os.getcwd()"
   ]
  },
  {
   "cell_type": "code",
   "execution_count": 73,
   "metadata": {},
   "outputs": [],
   "source": [
    "raw_data_path = os.path.abspath(os.path.join(notebook_dir, RAW_DATA_DIR))\n",
    "processed_data_path = os.path.abspath(os.path.join(notebook_dir, PROCESSED_DATA_DIR))"
   ]
  },
  {
   "cell_type": "code",
   "execution_count": 74,
   "metadata": {},
   "outputs": [],
   "source": [
    "def extract_city_name(file_name: str):\n",
    "    pattern = r\"^\\d+([A-Za-z]+)\\d+\\.txt$\"\n",
    "    match = re.match(pattern, file_name)\n",
    "    if not match:\n",
    "        return None\n",
    "    return match.group(1)"
   ]
  },
  {
   "cell_type": "code",
   "execution_count": 75,
   "metadata": {},
   "outputs": [],
   "source": [
    "def export_city_names(path: str) -> List[str]:\n",
    "    cities: List[str] = []\n",
    "    for file_name in os.listdir(path):\n",
    "        if file_name.endswith(\".txt\"):\n",
    "            city = extract_city_name(file_name=file_name)\n",
    "            if city:\n",
    "                cities.append(city)\n",
    "    return cities"
   ]
  },
  {
   "cell_type": "code",
   "execution_count": 76,
   "metadata": {},
   "outputs": [],
   "source": [
    "def return_unique_cities(cities: List[str]) -> List[str]:\n",
    "    return list(set(cities))"
   ]
  },
  {
   "cell_type": "code",
   "execution_count": 77,
   "metadata": {},
   "outputs": [],
   "source": [
    "def create_folders_for_cities(cities: List[str]):\n",
    "    if len(cities) == 0:\n",
    "        raise ValueError(\"Cities list cannot be empty!\")\n",
    "    unique_cities = return_unique_cities(cities)\n",
    "    for city in unique_cities:\n",
    "        city_dir = os.path.join(processed_data_path, city)\n",
    "        os.makedirs(city_dir, exist_ok=True)"
   ]
  },
  {
   "cell_type": "code",
   "execution_count": 78,
   "metadata": {},
   "outputs": [],
   "source": [
    "cities = export_city_names(raw_data_path)\n",
    "create_folders_for_cities(cities)"
   ]
  }
 ],
 "metadata": {
  "kernelspec": {
   "display_name": "Python 3",
   "language": "python",
   "name": "python3"
  },
  "language_info": {
   "codemirror_mode": {
    "name": "ipython",
    "version": 3
   },
   "file_extension": ".py",
   "mimetype": "text/x-python",
   "name": "python",
   "nbconvert_exporter": "python",
   "pygments_lexer": "ipython3",
   "version": "3.10.12"
  }
 },
 "nbformat": 4,
 "nbformat_minor": 2
}
