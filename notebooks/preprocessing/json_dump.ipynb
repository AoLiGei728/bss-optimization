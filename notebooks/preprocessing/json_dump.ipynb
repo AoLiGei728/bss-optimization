{
 "cells": [
  {
   "cell_type": "code",
   "execution_count": 69,
   "metadata": {},
   "outputs": [],
   "source": [
    "import os\n",
    "import numpy as np\n",
    "import json\n",
    "from typing import Dict, List"
   ]
  },
  {
   "cell_type": "code",
   "execution_count": 70,
   "metadata": {},
   "outputs": [],
   "source": [
    "RAW_DATA_DIR = \"../../data/raw/instances\"\n",
    "PROCESSED_DIR = \"../../data/processed\""
   ]
  },
  {
   "cell_type": "code",
   "execution_count": 71,
   "metadata": {},
   "outputs": [],
   "source": [
    "notebook_dir = os.getcwd()"
   ]
  },
  {
   "cell_type": "code",
   "execution_count": 72,
   "metadata": {},
   "outputs": [],
   "source": [
    "raw_data_path = os.path.abspath(os.path.join(notebook_dir, RAW_DATA_DIR))\n",
    "processed_path = os.path.abspath(os.path.join(notebook_dir, PROCESSED_DIR))"
   ]
  },
  {
   "cell_type": "code",
   "execution_count": 73,
   "metadata": {},
   "outputs": [],
   "source": [
    "def parse_to_json(path: str) -> Dict[str, np.ndarray | int]:\n",
    "    data: Dict[str, np.ndarray] = {}\n",
    "    try:\n",
    "        with open(path, \"r\") as file:\n",
    "            lines = file.readlines()\n",
    "            data[\"num_vertices\"] = int(lines[0])\n",
    "            data[\"demands\"] = list(map(int, lines[1].split()))\n",
    "            data[\"vehicle_capacity\"] = int(lines[2])\n",
    "            data[\"distance_matrix\"] = []\n",
    "            for line in lines[3:]:\n",
    "                data[\"distance_matrix\"].append(list(map(np.float64, line.split())))\n",
    "    except FileNotFoundError:\n",
    "        raise FileNotFoundError(f\"Error: File '{path}' not found.\")\n",
    "    except Exception as e:\n",
    "        raise Exception(f\"Error occurred while parsing file '{path}': {str(e)}\")\n",
    "    return data"
   ]
  },
  {
   "cell_type": "code",
   "execution_count": 74,
   "metadata": {},
   "outputs": [],
   "source": [
    "def export_city_path(path: str) -> List[str]:\n",
    "    return [file_name for file_name in os.listdir(path) if file_name.endswith(\".txt\")]"
   ]
  },
  {
   "cell_type": "code",
   "execution_count": 75,
   "metadata": {},
   "outputs": [],
   "source": [
    "def export_json_file(path: str, instance: Dict[str, np.ndarray | int]):\n",
    "    with open(path, \"w\") as file:\n",
    "        json.dump(instance, file, indent=4)"
   ]
  },
  {
   "cell_type": "code",
   "execution_count": 76,
   "metadata": {},
   "outputs": [],
   "source": [
    "def json_dump(origem: str, source: str):\n",
    "    try:\n",
    "        for city in export_city_path(origem):\n",
    "            city_path = f\"{origem}/{city}\"\n",
    "            instance_name = city.replace(\".txt\", \".json\")\n",
    "            instance = parse_to_json(city_path)\n",
    "            output_path = f\"{source}/{instance_name}\"\n",
    "            export_json_file(output_path, instance=instance)\n",
    "            break\n",
    "    except Exception as e:\n",
    "        print(e)"
   ]
  },
  {
   "cell_type": "code",
   "execution_count": 77,
   "metadata": {},
   "outputs": [],
   "source": [
    "json_dump(raw_data_path, processed_path)"
   ]
  }
 ],
 "metadata": {
  "kernelspec": {
   "display_name": "Python 3",
   "language": "python",
   "name": "python3"
  },
  "language_info": {
   "codemirror_mode": {
    "name": "ipython",
    "version": 3
   },
   "file_extension": ".py",
   "mimetype": "text/x-python",
   "name": "python",
   "nbconvert_exporter": "python",
   "pygments_lexer": "ipython3",
   "version": "3.10.12"
  }
 },
 "nbformat": 4,
 "nbformat_minor": 2
}
